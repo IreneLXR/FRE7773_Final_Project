{
 "cells": [
  {
   "cell_type": "code",
   "execution_count": 1,
   "metadata": {},
   "outputs": [],
   "source": [
    "import glob\n",
    "import pandas as pd\n",
    "import numpy as np\n",
    "import seaborn as sns\n",
    "import matplotlib as mpl\n",
    "import matplotlib.pyplot as plt\n",
    "\n",
    "from joblib import Parallel, delayed"
   ]
  },
  {
   "cell_type": "markdown",
   "metadata": {},
   "source": [
    "# Feature Engineering"
   ]
  },
  {
   "cell_type": "markdown",
   "metadata": {},
   "source": [
    "Mind for data directory"
   ]
  },
  {
   "cell_type": "code",
   "execution_count": 56,
   "metadata": {},
   "outputs": [],
   "source": [
    "DATA_DIR = 'C:/Users/gybj0/Desktop/data'\n",
    "import pandas as pd\n",
    "import numpy as np\n",
    "import matplotlib.pyplot as plt\n",
    "import lightgbm as lgb\n",
    "import os\n",
    "\n",
    "train = pd.read_csv(os.path.join(DATA_DIR, 'optiver_volatility', 'train.csv'))\n",
    "stock_ids = set(train['stock_id'])\n",
    "\n",
    "def load_stock_data(stock_id: int, directory: str) -> pd.DataFrame:\n",
    "    return pd.read_parquet(os.path.join(DATA_DIR, 'optiver_volatility', directory, f'stock_id={stock_id}'))\n",
    "\n",
    "def load_book(stock_id: int, type:  str) -> pd.DataFrame:\n",
    "    return load_stock_data(stock_id, f'book_{type}.parquet')\n",
    "\n",
    "def load_trade(stock_id: int, type: str) -> pd.DataFrame:\n",
    "    return load_stock_data(stock_id, f'trade_{type}.parquet')\n",
    "\n",
    "def calc_wap1(df: pd.DataFrame) -> pd.Series:\n",
    "    wap = (df['bid_price1'] * df['ask_size1'] + df['ask_price1'] * df['bid_size1']) / (df['bid_size1'] + df['ask_size1'])\n",
    "    return wap\n",
    "\n",
    "def calc_wap2(df: pd.DataFrame) -> pd.Series:\n",
    "    wap = (df['bid_price2'] * df['ask_size2'] + df['ask_price2'] * df['bid_size2']) / (df['bid_size2'] + df['ask_size2'])\n",
    "    return wap\n",
    "\n",
    "def realized_volatility(series: np.ndarray) -> np.ndarray:\n",
    "    return np.sqrt(np.sum(series**2))\n",
    "\n",
    "def log_return(series: np.ndarray) -> np.ndarray:\n",
    "    return np.log(series).diff()\n",
    "\n",
    "def log_return_df2(series: np.ndarray) -> np.ndarray:\n",
    "    return np.log(series).diff(2)\n",
    "\n",
    "def rename(addon: str, columns) -> list:\n",
    "    ret = []\n",
    "    for col in columns:\n",
    "        if col[0] in ['time_id','stock_id']:\n",
    "            ret.append(col[0])\n",
    "        else:\n",
    "            ret.append('_'.join([addon]+list(col)))\n",
    "    return ret\n",
    "\n",
    "def make_book_feature(stock_id: int, type: str) -> pd.DataFrame:\n",
    "    book = load_book(stock_id, type)\n",
    "\n",
    "    book['wap1'] = calc_wap1(book)\n",
    "    book['wap2'] = calc_wap2(book)\n",
    "    book['log_return1'] = book.groupby(['time_id'])['wap1'].apply(log_return)\n",
    "    book['log_return2'] = book.groupby(['time_id'])['wap2'].apply(log_return)\n",
    "    book['log_return_ask1'] = book.groupby(['time_id'])['ask_price1'].apply(log_return)\n",
    "    book['log_return_ask2'] = book.groupby(['time_id'])['ask_price2'].apply(log_return)\n",
    "    book['log_return_bid1'] = book.groupby(['time_id'])['bid_price1'].apply(log_return)\n",
    "    book['log_return_bid2'] = book.groupby(['time_id'])['bid_price2'].apply(log_return)\n",
    "\n",
    "    book['wap_balance'] = abs(book['wap1'] - book['wap2'])\n",
    "    book['price_spread'] = (book['ask_price1'] - book['bid_price1']) / ((book['ask_price1'] + book['bid_price1']) / 2)\n",
    "    book['bid_spread'] = book['bid_price1'] - book['bid_price2']\n",
    "    book['ask_spread'] = book['ask_price1'] - book['ask_price2']\n",
    "    book['total_volume'] = (book['ask_size1'] + book['ask_size2']) + (book['bid_size1'] + book['bid_size2'])\n",
    "    book['volume_imbalance'] = abs((book['ask_size1'] + book['ask_size2']) - (book['bid_size1'] + book['bid_size2']))\n",
    "\n",
    "    features = {\n",
    "        'seconds_in_bucket': ['count'],\n",
    "        'wap1': [np.sum, np.mean, np.std],\n",
    "        'wap2': [np.sum, np.mean, np.std],\n",
    "        'log_return1': [np.sum, realized_volatility, np.mean, np.std],\n",
    "        'log_return2': [np.sum, realized_volatility, np.mean, np.std],\n",
    "        'log_return_ask1': [np.sum, realized_volatility, np.mean, np.std],\n",
    "        'log_return_ask2': [np.sum, realized_volatility, np.mean, np.std],\n",
    "        'log_return_bid1': [np.sum, realized_volatility, np.mean, np.std],\n",
    "        'log_return_bid2': [np.sum, realized_volatility, np.mean, np.std],\n",
    "        'wap_balance': [np.sum, np.mean, np.std],\n",
    "        'price_spread':[np.sum, np.mean, np.std],\n",
    "        'bid_spread':[np.sum, np.mean, np.std],\n",
    "        'ask_spread':[np.sum, np.mean, np.std],\n",
    "        'total_volume':[np.sum, np.mean, np.std],\n",
    "        'volume_imbalance':[np.sum, np.mean, np.std]\n",
    "    }\n",
    "    \n",
    "    book = book.fillna(method = 'ffill').dropna()\n",
    "    agg = book.groupby('time_id').agg(features).reset_index(drop=False)\n",
    "    agg.columns = rename('book', agg.columns)\n",
    "    agg['stock_id'] = stock_id   \n",
    "\n",
    "    for time in [450, 300, 150]:\n",
    "        d = book[book['seconds_in_bucket'] >= time].groupby('time_id').agg(features).reset_index(drop=False)\n",
    "        d.columns = rename(f'{time}', d.columns)\n",
    "        agg = pd.merge(agg, d, on = 'time_id', how = 'left')\n",
    "    return agg\n",
    "\n",
    "def make_trade_feature(stock_id: int, type: str) -> pd.DataFrame:\n",
    "    trade = load_trade(stock_id, type)\n",
    "    trade['log_return'] = trade.groupby('time_id')['price'].apply(log_return)\n",
    "\n",
    "    features = {\n",
    "        'log_return':[realized_volatility],\n",
    "        'seconds_in_bucket':['count'],\n",
    "        'size':[np.sum],\n",
    "        'order_count':[np.mean],\n",
    "    }\n",
    "\n",
    "    trade = trade.fillna(method = 'ffill').dropna()\n",
    "    agg = trade.groupby('time_id').agg(features).reset_index()\n",
    "    agg.columns = rename('trade', agg.columns)\n",
    "    agg['stock_id'] = stock_id\n",
    "\n",
    "    for time in [450, 300, 150]:\n",
    "        d = trade[trade['seconds_in_bucket'] >= time].groupby('time_id').agg(features).reset_index(drop=False)\n",
    "        d.columns = rename(f'{time}', d.columns)\n",
    "        agg = pd.merge(agg, d, on = 'time_id', how = 'left')\n",
    "    return agg\n",
    "\n",
    "def make_features(stock_ids: list[int], type: str) -> pd.DataFrame:\n",
    "    from joblib import Parallel, delayed\n",
    "    book = Parallel(n_jobs = -1)(delayed(make_book_feature)(i, type) for i in stock_ids)\n",
    "    books = pd.concat(book)\n",
    "    trade = Parallel(n_jobs = -1)(delayed(make_trade_feature)(i, type) for i in stock_ids)\n",
    "    trades = pd.concat(trade)\n",
    "    df = pd.merge(books, trades, on = ['time_id','stock_id'], suffixes = ['_book','_trade'])\n",
    "    return df"
   ]
  },
  {
   "cell_type": "code",
   "execution_count": 36,
   "metadata": {},
   "outputs": [],
   "source": [
    "try:\n",
    "    df = pd.read_csv('feature_v2.csv', index_col = [0])\n",
    "except:\n",
    "    df = make_features(stock_ids, 'train')\n",
    "    #df.to_csv('feature_v2.csv')"
   ]
  },
  {
   "cell_type": "code",
   "execution_count": 4,
   "metadata": {},
   "outputs": [
    {
     "data": {
      "text/plain": [
       "(427233, 214)"
      ]
     },
     "execution_count": 4,
     "metadata": {},
     "output_type": "execute_result"
    }
   ],
   "source": [
    "df.shape"
   ]
  },
  {
   "cell_type": "code",
   "execution_count": 5,
   "metadata": {},
   "outputs": [],
   "source": [
    "test_df = make_features([0], 'test')"
   ]
  },
  {
   "cell_type": "code",
   "execution_count": 6,
   "metadata": {},
   "outputs": [
    {
     "data": {
      "text/plain": [
       "(1, 214)"
      ]
     },
     "execution_count": 6,
     "metadata": {},
     "output_type": "execute_result"
    }
   ],
   "source": [
    "test_df.shape"
   ]
  },
  {
   "cell_type": "markdown",
   "metadata": {},
   "source": [
    "# Train Data, Time id"
   ]
  },
  {
   "cell_type": "code",
   "execution_count": 37,
   "metadata": {},
   "outputs": [],
   "source": [
    "time_ids = df.time_id.factorize()[1]\n",
    "time_indexes = df.time_id.factorize()[0]\n",
    "time_len = len(time_ids)\n",
    "html_time = 0.1\n",
    "train_time = time_ids[int((1 - html_time) * time_len)]"
   ]
  },
  {
   "cell_type": "markdown",
   "metadata": {},
   "source": [
    "Rating critiria used in competition: Root Mean Square Percentage Error"
   ]
  },
  {
   "cell_type": "markdown",
   "metadata": {},
   "source": [
    "$$ \\frac{1}{n}\\sum{\\sqrt{\\frac{y_{true} - y_{pred}}{y_{true}}}} $$"
   ]
  },
  {
   "cell_type": "code",
   "execution_count": 57,
   "metadata": {},
   "outputs": [],
   "source": [
    "def rmspe(y_true, y_pred):\n",
    "    return np.sqrt(np.mean(np.square((y_true - y_pred) / y_true)))\n",
    "\n",
    "X_train = df.copy()\n",
    "X_train['target'] = train.target"
   ]
  },
  {
   "cell_type": "markdown",
   "metadata": {},
   "source": [
    "# Train NN"
   ]
  },
  {
   "cell_type": "code",
   "execution_count": 58,
   "metadata": {},
   "outputs": [],
   "source": [
    "from sklearn.neighbors import NearestNeighbors\n",
    "\n",
    "class Neighbors:\n",
    "    def __init__(self, name: str, n_neighbor: int, pivot: pd.DataFrame):\n",
    "        '''\n",
    "        name: name of the neighbor\n",
    "        n_neighbor: max number of neighbors can be selected\n",
    "        pivot: DataFrame that contains timeid, stockid and features value as value\n",
    "        X_train: DataFrame that contains all the feature\n",
    "        '''\n",
    "        self.name = name\n",
    "        self.n_neighbor = n_neighbor\n",
    "        self.pivot = pivot\n",
    "        nn = NearestNeighbors(n_neighbors=n_neighbor)\n",
    "        nn.fit(pivot)\n",
    "        self.nn_ind = nn.kneighbors(pivot, n_neighbors=n_neighbor, return_distance=False)\n",
    "        self.time = X_train.time_id.factorize()[0]\n",
    "        self.stock = X_train.stock_id.factorize()[0]       \n",
    "\n",
    "    def make_nn_features(self, n: int, method=np.mean):\n",
    "        '''\n",
    "        Construct neighbor's feature for a given colume, method, and number of neighbors\n",
    "        Must run make_nn_time or make_nn_stock before this.\n",
    "        n: number of neighbors to select and calculate\n",
    "        col: name of neighbor's feature\n",
    "        method: function to calculate properties of neighbors, default to calculate mean\n",
    "        '''\n",
    "        assert(self.features is not None)\n",
    "\n",
    "        self.agg = pd.DataFrame(\n",
    "            method(self.features.iloc[:, 1:n], axis = 1),\n",
    "            columns = [f'{self.name}_{str(n)}_{self.col}_{method.__name__}']\n",
    "        )\n",
    "\n",
    "class TimeNeighbors(Neighbors):\n",
    "    def make_nn_time(self, pivot: pd.DataFrame, feature_col: str):\n",
    "        '''\n",
    "        Find values in each neighbor for a specific feature\n",
    "        pivot: DataFrame that contains timeid, stockid and features value as value\n",
    "        feature_col: name of the feature that we want to extract from neighbors\n",
    "        '''  \n",
    "        pivot = pivot.pivot('time_id', 'stock_id', feature_col)\n",
    "        pivot = pivot.fillna(pivot.mean())\n",
    "        self.features = pd.DataFrame(pivot.values[self.nn_ind[self.time, 1:self.n_neighbor], self.stock[:, None]])\n",
    "        self.col = feature_col\n",
    "\n",
    "class StockNeighbors(Neighbors):        \n",
    "    def make_nn_stock(self, pivot: pd.DataFrame, feature_col: str):\n",
    "        '''\n",
    "        Find values in each neighbor for a specific feature\n",
    "        pivot: DataFrame that contains timeid, stockid and features value as value\n",
    "        feature_col: name of the feature that we want to extract from neighbors\n",
    "        '''  \n",
    "        pivot = pivot.pivot('time_id', 'stock_id', feature_col)\n",
    "        pivot = pivot.fillna(pivot.mean())\n",
    "        self.features = pd.DataFrame(pivot.T.values[self.nn_ind[self.stock, 1:self.n_neighbor], self.time[:, None]])\n",
    "        self.col = feature_col\n"
   ]
  },
  {
   "cell_type": "code",
   "execution_count": 64,
   "metadata": {},
   "outputs": [],
   "source": [
    "from sklearn.preprocessing import minmax_scale\n",
    "time_neighbor = []\n",
    "stock_neighbor = []\n",
    "pv = X_train.copy()\n",
    "#make time neighbor based on volatility, trading volume, and return\n",
    "pivot = pv.pivot('time_id','stock_id','book_log_return1_realized_volatility')\n",
    "pivot = pivot.fillna(pivot.mean())\n",
    "pivot = pd.DataFrame(minmax_scale(pivot))\n",
    "time_neighbor.append(TimeNeighbors('time_vol', 40, pivot))\n",
    "\n",
    "pivot = pv.pivot('time_id','stock_id','trade_size_sum')\n",
    "pivot = pivot.fillna(pivot.mean())\n",
    "pivot = pd.DataFrame(minmax_scale(pivot))\n",
    "time_neighbor.append(TimeNeighbors('time_trade_size_sum', 40, pivot))\n",
    "\n",
    "pivot = pv.pivot('time_id','stock_id','book_log_return1_mean')\n",
    "pivot = pivot.fillna(pivot.mean())\n",
    "pivot = pd.DataFrame(minmax_scale(pivot))\n",
    "time_neighbor.append(TimeNeighbors('time_log_return1_mean', 40, pivot))\n",
    "\n",
    "pivot = pv.pivot('time_id','stock_id','trade_order_count_mean')\n",
    "pivot = pivot.fillna(pivot.mean())\n",
    "pivot = pd.DataFrame(minmax_scale(pivot))\n",
    "time_neighbor.append(TimeNeighbors('time_order_count_mean', 40, pivot))\n",
    "\n",
    "#make stock neighbor based on volatility and return\n",
    "pivot = pv.pivot('time_id','stock_id','book_log_return1_realized_volatility')\n",
    "pivot = pivot.fillna(pivot.mean())\n",
    "pivot = pd.DataFrame(minmax_scale(pivot))\n",
    "stock_neighbor.append(StockNeighbors('stock_vol', 80, minmax_scale(pivot.T)))\n",
    "\n",
    "pivot = pv.pivot('time_id','stock_id','book_log_return1_mean')\n",
    "pivot = pivot.fillna(pivot.mean())\n",
    "pivot = pd.DataFrame(minmax_scale(pivot))\n",
    "stock_neighbor.append(StockNeighbors('stock_log_return1_mean', 80, minmax_scale(pivot.T)))\n"
   ]
  },
  {
   "cell_type": "code",
   "execution_count": 60,
   "metadata": {},
   "outputs": [],
   "source": [
    "def cal_rank_correaltion(neighbors):\n",
    "    rank = pd.DataFrame()\n",
    "    for n in neighbors:\n",
    "        print(n.name)\n",
    "        rank[n.name] = n.nn_ind.flatten()\n",
    "\n",
    "    sns.heatmap(rank.corr(), annot = True)"
   ]
  },
  {
   "cell_type": "code",
   "execution_count": 61,
   "metadata": {},
   "outputs": [
    {
     "name": "stdout",
     "output_type": "stream",
     "text": [
      "time_vol\n",
      "time_trade_size_sum\n",
      "time_log_return1_mean\n",
      "time_order_count_mean\n"
     ]
    },
    {
     "data": {
      "image/png": "[encoded data removed]",
      "text/plain": [
       "<Figure size 432x288 with 2 Axes>"
      ]
     },
     "metadata": {
      "needs_background": "light"
     },
     "output_type": "display_data"
    }
   ],
   "source": [
    "cal_rank_correaltion(time_neighbor)"
   ]
  },
  {
   "cell_type": "code",
   "execution_count": 13,
   "metadata": {},
   "outputs": [
    {
     "name": "stdout",
     "output_type": "stream",
     "text": [
      "stock_vol\n",
      "stock_log_return1_mean\n"
     ]
    },
    {
     "data": {
      "image/png": "[encoded data removed]",
      "text/plain": [
       "<Figure size 432x288 with 2 Axes>"
      ]
     },
     "metadata": {
      "needs_background": "light"
     },
     "output_type": "display_data"
    }
   ],
   "source": [
    "cal_rank_correaltion(stock_neighbor)"
   ]
  },
  {
   "cell_type": "markdown",
   "metadata": {},
   "source": [
    "Integrate NN features"
   ]
  },
  {
   "cell_type": "code",
   "execution_count": 65,
   "metadata": {},
   "outputs": [],
   "source": [
    "def make_nn_features(df: pd.DataFrame) -> pd.DataFrame:\n",
    "    #aggregate features according to different features, functions, and number of neighbors\n",
    "    df2 = df.copy()\n",
    "\n",
    "    methods_stocks = {\n",
    "        'book_log_return1_realized_volatility': [np.mean, np.min, np.max, np.std],\n",
    "        'trade_order_count_mean': [np.mean],\n",
    "        'book_log_return1_mean': [np.mean],\n",
    "        'trade_size_sum': [np.mean],\n",
    "        'book_seconds_in_bucket_count': [np.mean],\n",
    "    }\n",
    "    \n",
    "    methods_time = {\n",
    "        'book_log_return1_realized_volatility': [np.mean, np.min, np.max, np.std],\n",
    "        'trade_order_count_mean': [np.mean],\n",
    "        'book_log_return1_mean': [np.mean],\n",
    "        'trade_size_sum': [np.mean],\n",
    "        'book_seconds_in_bucket_count': [np.mean],\n",
    "    }\n",
    "\n",
    "    time_n = [2, 3, 5, 10, 20, 40]\n",
    "    stock_n = [5, 10, 20, 40, 60, 80]\n",
    "    cols = []\n",
    "\n",
    "    for col in methods_time.keys():\n",
    "\n",
    "        for nn in time_neighbor:\n",
    "            nn.make_nn_time(df2, col)\n",
    "\n",
    "        for method in methods_time[col]:\n",
    "            for n in time_n:\n",
    "                nn.make_nn_features(n, method)\n",
    "                feat = nn.agg\n",
    "                cols.append(feat)\n",
    "\n",
    "    for col in methods_stocks.keys():\n",
    "\n",
    "        for nn in stock_neighbor:\n",
    "            nn.make_nn_stock(df2, col)\n",
    "\n",
    "        for method in methods_stocks[col]:\n",
    "            for n in stock_n:\n",
    "                nn.make_nn_features(n, method)\n",
    "                feat = nn.agg\n",
    "                cols.append(feat)    \n",
    "    \n",
    "    ndf = pd.concat(cols, axis = 1)\n",
    "    df2 = pd.concat([df2, ndf], axis = 1)\n",
    "    return df2"
   ]
  },
  {
   "cell_type": "code",
   "execution_count": 66,
   "metadata": {},
   "outputs": [],
   "source": [
    "df_nn = make_nn_features(X_train)"
   ]
  },
  {
   "cell_type": "code",
   "execution_count": 67,
   "metadata": {},
   "outputs": [
    {
     "data": {
      "text/plain": [
       "(427233, 311)"
      ]
     },
     "execution_count": 67,
     "metadata": {},
     "output_type": "execute_result"
    }
   ],
   "source": [
    "df_nn.shape"
   ]
  },
  {
   "cell_type": "code",
   "execution_count": 68,
   "metadata": {},
   "outputs": [],
   "source": [
    "df_nn = df_nn.fillna(df_nn.mean())"
   ]
  },
  {
   "cell_type": "code",
   "execution_count": 69,
   "metadata": {},
   "outputs": [
    {
     "data": {
      "text/plain": [
       "0"
      ]
     },
     "execution_count": 69,
     "metadata": {},
     "output_type": "execute_result"
    }
   ],
   "source": [
    "import gc\n",
    "gc.collect()"
   ]
  },
  {
   "cell_type": "code",
   "execution_count": null,
   "metadata": {},
   "outputs": [],
   "source": [
    "#df_nn.to_csv('nn_features.csv')"
   ]
  },
  {
   "cell_type": "markdown",
   "metadata": {},
   "source": [
    "# CV and test split"
   ]
  },
  {
   "cell_type": "code",
   "execution_count": 20,
   "metadata": {},
   "outputs": [],
   "source": [
    "fold_bolder = [3830 - 383 * 5, 3830 - 383 * 4,3830 - 383 * 3,3830 - 383 * 2,3830 - 383 * 1,]\n",
    "fold = []\n",
    "df_nn = df_nn.sort_values(by = ['time_id', 'stock_id'])\n",
    "df_nn = df_nn.reset_index()\n",
    "for i in fold_bolder:\n",
    "    idx_valid = time_ids[i: i + 383]\n",
    "    ind_train = np.where(df_nn.time_id<idx_valid[0])[0]\n",
    "    ind_valid = np.where((df_nn.time_id>=idx_valid[0])&(df_nn.time_id<idx_valid[-1]))[0]\n",
    "    fold.append((ind_train, ind_valid))"
   ]
  },
  {
   "cell_type": "code",
   "execution_count": 21,
   "metadata": {},
   "outputs": [
    {
     "data": {
      "text/plain": [
       "[(array([     0,      1,      2, ..., 215073, 215074, 215075], dtype=int64),\n",
       "  array([215076, 215077, 215078, ..., 257700, 257701, 257702], dtype=int64)),\n",
       " (array([     0,      1,      2, ..., 257812, 257813, 257814], dtype=int64),\n",
       "  array([257815, 257816, 257817, ..., 300853, 300854, 300855], dtype=int64)),\n",
       " (array([     0,      1,      2, ..., 300964, 300965, 300966], dtype=int64),\n",
       "  array([300967, 300968, 300969, ..., 343675, 343676, 343677], dtype=int64)),\n",
       " (array([     0,      1,      2, ..., 343787, 343788, 343789], dtype=int64),\n",
       "  array([343790, 343791, 343792, ..., 387055, 387056, 387057], dtype=int64)),\n",
       " (array([     0,      1,      2, ..., 387167, 387168, 387169], dtype=int64),\n",
       "  array([387170, 387171, 387172, ..., 417637, 417638, 417639], dtype=int64))]"
      ]
     },
     "execution_count": 21,
     "metadata": {},
     "output_type": "execute_result"
    }
   ],
   "source": [
    "fold"
   ]
  },
  {
   "cell_type": "code",
   "execution_count": 22,
   "metadata": {},
   "outputs": [],
   "source": [
    "del ind_train\n",
    "del ind_valid"
   ]
  },
  {
   "cell_type": "markdown",
   "metadata": {},
   "source": [
    "# Model Selection"
   ]
  },
  {
   "cell_type": "markdown",
   "metadata": {},
   "source": [
    "## Baseline Model: Linear Regression"
   ]
  },
  {
   "cell_type": "code",
   "execution_count": 24,
   "metadata": {},
   "outputs": [
    {
     "name": "stdout",
     "output_type": "stream",
     "text": [
      "0.9083604989581188\n"
     ]
    }
   ],
   "source": [
    "df_train = df_nn[df_nn.index <= fold[-1][0][-1]]\n",
    "df_test = df_nn[df_nn.index > fold[-1][0][-1]]\n",
    "\n",
    "from sklearn.linear_model import LinearRegression\n",
    "model = LinearRegression()\n",
    "X = df_train[[col for col in df_train.columns if col not in ['target','time_id','stock_id','level_0','index']]]\n",
    "y = df_train['target']\n",
    "X_test = df_test[[col for col in df_test.columns if col not in ['target','time_id','stock_id','level_0','index']]]\n",
    "y_test = df_test['target']\n",
    "\n",
    "model.fit(X, y)\n",
    "y_pred = model.predict(X_test)\n",
    "print(rmspe(y_test, y_pred))"
   ]
  },
  {
   "cell_type": "markdown",
   "metadata": {},
   "source": [
    "## RandomForest Regression"
   ]
  },
  {
   "cell_type": "code",
   "execution_count": 31,
   "metadata": {},
   "outputs": [],
   "source": [
    "#Run time Error\n",
    "'''from sklearn.ensemble import RandomForestRegressor\n",
    "model = RandomForestRegressor(n_jobs=-1)\n",
    "model.fit(X, y)\n",
    "y_pred = model.predict(X_test)\n",
    "print(rmspe(y_test, y_pred))'''"
   ]
  },
  {
   "cell_type": "markdown",
   "metadata": {},
   "source": [
    "## Adaboost Regreesion"
   ]
  },
  {
   "cell_type": "code",
   "execution_count": null,
   "metadata": {},
   "outputs": [],
   "source": [
    "# Run Time error\n",
    "'''from sklearn.ensemble import AdaBoostRegressor\n",
    "model_ada = AdaBoostRegressor()\n",
    "model_ada.fit(X, y)\n",
    "y_pred = model.predict(X_test)\n",
    "print(rmspe(y_test, y_pred))'''"
   ]
  },
  {
   "cell_type": "markdown",
   "metadata": {},
   "source": [
    "## LightGBM"
   ]
  },
  {
   "cell_type": "code",
   "execution_count": 27,
   "metadata": {},
   "outputs": [],
   "source": [
    "X = df_train[[col for col in df_train.columns if col not in ['target','time_id','stock_id','level_0','index']]]\n",
    "y = df_train['target']"
   ]
  },
  {
   "cell_type": "code",
   "execution_count": 28,
   "metadata": {},
   "outputs": [],
   "source": [
    "import lightgbm as lgb\n",
    "ds = lgb.Dataset(X, y, weight = 1/np.power(y, 2))"
   ]
  },
  {
   "cell_type": "code",
   "execution_count": null,
   "metadata": {},
   "outputs": [],
   "source": [
    "params = {\n",
    "    'objective': 'regression',\n",
    "    'learning_rate': 0.3\n",
    "}\n",
    "\n",
    "def feval_rmspe(preds, train_data):\n",
    "    labels = train_data.get_label()\n",
    "    return 'RMSPE', round(rmspe(y_true = labels, y_pred = preds),5), False\n",
    "\n",
    "ret = lgb.cv(params, ds, num_boost_round = 8000, folds = fold[:-1],\n",
    "            feval = feval_rmspe, stratified = False,\n",
    "            return_cvbooster = True, verbose_eval = 20,\n",
    "            early_stopping_rounds = int(120*0.1/0.3))\n",
    "\n",
    "best_iter = len(ret['RMSPE-mean'])"
   ]
  },
  {
   "cell_type": "code",
   "execution_count": null,
   "metadata": {},
   "outputs": [],
   "source": [
    "for i in range(len(fold) - 1):\n",
    "    y_pred = ret['cvbooster'].boosters[i].predict(X.iloc[fold[i][1]], num_iteration=best_iter)\n",
    "    y_true = y.iloc[fold[i][1]]\n",
    "    print(f\"# fold{i} RMSPE: {rmspe(y_true, y_pred)}\")\n",
    "    "
   ]
  },
  {
   "cell_type": "markdown",
   "metadata": {},
   "source": [
    "# Robustness Test"
   ]
  },
  {
   "cell_type": "code",
   "execution_count": 78,
   "metadata": {},
   "outputs": [],
   "source": [
    "time_ids = time_ids.sort_values()\n",
    "robust_time = time_ids[-3:]\n",
    "time_ids = time_ids[:-3]\n",
    "fold_bolder = [3830 - 383 * 5, 3830 - 383 * 4,3830 - 383 * 3,3830 - 383 * 2,3830 - 383 * 1,]\n",
    "df_robust = df_nn[df_nn.time_id.apply(lambda x: x not in robust_time)]\n",
    "fold = []\n",
    "df_robust = df_robust.sort_values(by = ['time_id', 'stock_id'])\n",
    "df_robust = df_robust.reset_index()\n",
    "for i in fold_bolder:\n",
    "    idx_valid = time_ids[i: i + 383]\n",
    "    ind_train = np.where(df_robust.time_id<idx_valid[0])[0]\n",
    "    ind_valid = np.where((df_robust.time_id>=idx_valid[0])&(df_robust.time_id<idx_valid[-1]))[0]\n",
    "    fold.append((ind_train, ind_valid))\n",
    "\n",
    "df_train = df_robust[df_robust.index <= fold[-1][0][-1]]\n",
    "df_test = df_robust[df_robust.index > fold[-1][0][-1]]"
   ]
  },
  {
   "cell_type": "code",
   "execution_count": 79,
   "metadata": {},
   "outputs": [
    {
     "data": {
      "text/plain": [
       "Int64Index([32758, 32763, 32767], dtype='int64')"
      ]
     },
     "execution_count": 79,
     "metadata": {},
     "output_type": "execute_result"
    }
   ],
   "source": [
    "robust_time"
   ]
  },
  {
   "cell_type": "code",
   "execution_count": 80,
   "metadata": {},
   "outputs": [],
   "source": [
    "X = df_train[[col for col in df_train.columns if col not in ['target','time_id','stock_id','level_0','index']]]\n",
    "y = df_train['target']"
   ]
  },
  {
   "cell_type": "code",
   "execution_count": 82,
   "metadata": {},
   "outputs": [],
   "source": [
    "import lightgbm as lgb\n",
    "ds = lgb.Dataset(X, y, weight = 1/np.power(y, 2))"
   ]
  },
  {
   "cell_type": "code",
   "execution_count": 83,
   "metadata": {},
   "outputs": [
    {
     "name": "stderr",
     "output_type": "stream",
     "text": [
      "c:\\Users\\gybj0\\AppData\\Local\\Programs\\Python\\Python310\\lib\\site-packages\\lightgbm\\engine.py:577: UserWarning: 'early_stopping_rounds' argument is deprecated and will be removed in a future release of LightGBM. Pass 'early_stopping()' callback via 'callbacks' argument instead.\n",
      "  _log_warning(\"'early_stopping_rounds' argument is deprecated and will be removed in a future release of LightGBM. \"\n"
     ]
    },
    {
     "name": "stdout",
     "output_type": "stream",
     "text": [
      "[LightGBM] [Warning] Auto-choosing col-wise multi-threading, the overhead of testing was 0.433996 seconds.\n",
      "You can set `force_col_wise=true` to remove the overhead.\n",
      "[LightGBM] [Info] Total Bins 78005\n",
      "[LightGBM] [Info] Number of data points in the train set: 213631, number of used features: 307\n",
      "[LightGBM] [Warning] Auto-choosing col-wise multi-threading, the overhead of testing was 0.452857 seconds.\n",
      "You can set `force_col_wise=true` to remove the overhead.\n",
      "[LightGBM] [Info] Total Bins 78005\n",
      "[LightGBM] [Info] Number of data points in the train set: 256361, number of used features: 307\n",
      "[LightGBM] [Warning] Auto-choosing col-wise multi-threading, the overhead of testing was 0.561881 seconds.\n",
      "You can set `force_col_wise=true` to remove the overhead.\n",
      "[LightGBM] [Info] Total Bins 78005\n",
      "[LightGBM] [Info] Number of data points in the train set: 299518, number of used features: 307\n",
      "[LightGBM] [Warning] Auto-choosing col-wise multi-threading, the overhead of testing was 0.653883 seconds.\n",
      "You can set `force_col_wise=true` to remove the overhead.\n",
      "[LightGBM] [Info] Total Bins 78005\n",
      "[LightGBM] [Info] Number of data points in the train set: 342345, number of used features: 307\n",
      "[LightGBM] [Info] Start training from score 0.001790\n"
     ]
    },
    {
     "name": "stderr",
     "output_type": "stream",
     "text": [
      "c:\\Users\\gybj0\\AppData\\Local\\Programs\\Python\\Python310\\lib\\site-packages\\lightgbm\\engine.py:620: UserWarning: 'verbose_eval' argument is deprecated and will be removed in a future release of LightGBM. Pass 'log_evaluation()' callback via 'callbacks' argument instead.\n",
      "  _log_warning(\"'verbose_eval' argument is deprecated and will be removed in a future release of LightGBM. \"\n"
     ]
    },
    {
     "name": "stdout",
     "output_type": "stream",
     "text": [
      "[LightGBM] [Info] Start training from score 0.001797\n",
      "[LightGBM] [Info] Start training from score 0.001794\n",
      "[LightGBM] [Info] Start training from score 0.001798\n",
      "[20]\tcv_agg's l2: 1.11997e-06 + 4.31816e-08\tcv_agg's RMSPE: 0.488483 + 0.00903453\n",
      "[40]\tcv_agg's l2: 1.11762e-06 + 4.31884e-08\tcv_agg's RMSPE: 0.487973 + 0.00909444\n",
      "[60]\tcv_agg's l2: 1.12032e-06 + 4.55842e-08\tcv_agg's RMSPE: 0.48855 + 0.00958203\n"
     ]
    }
   ],
   "source": [
    "params = {\n",
    "    'objective': 'regression',\n",
    "    'learning_rate': 0.3\n",
    "}\n",
    "\n",
    "def feval_rmspe(preds, train_data):\n",
    "    labels = train_data.get_label()\n",
    "    return 'RMSPE', round(rmspe(y_true = labels, y_pred = preds),5), False\n",
    "\n",
    "ret = lgb.cv(params, ds, num_boost_round = 8000, folds = fold[:-1],\n",
    "            feval = feval_rmspe, stratified = False,\n",
    "            return_cvbooster = True, verbose_eval = 20,\n",
    "            early_stopping_rounds = int(120*0.1/0.3))\n",
    "\n",
    "best_iter = len(ret['RMSPE-mean'])"
   ]
  },
  {
   "cell_type": "code",
   "execution_count": 84,
   "metadata": {},
   "outputs": [
    {
     "name": "stdout",
     "output_type": "stream",
     "text": [
      "# fold0 RMSPE: 0.49538864157288626\n",
      "# fold1 RMSPE: 0.4978353671149469\n",
      "# fold2 RMSPE: 0.4814751375399032\n",
      "# fold3 RMSPE: 0.47694292080359624\n"
     ]
    }
   ],
   "source": [
    "for i in range(len(fold) - 1):\n",
    "    y_pred = ret['cvbooster'].boosters[i].predict(X.iloc[fold[i][1]], num_iteration=best_iter)\n",
    "    y_true = y.iloc[fold[i][1]]\n",
    "    print(f\"# fold{i} RMSPE: {rmspe(y_true, y_pred)}\")"
   ]
  },
  {
   "cell_type": "code",
   "execution_count": 34,
   "metadata": {},
   "outputs": [
    {
     "data": {
      "text/plain": [
       "Int64Index([29252, 29337, 29842], dtype='int64')"
      ]
     },
     "execution_count": 34,
     "metadata": {},
     "output_type": "execute_result"
    }
   ],
   "source": [
    "robust_time"
   ]
  },
  {
   "cell_type": "code",
   "execution_count": 85,
   "metadata": {},
   "outputs": [],
   "source": [
    "robust_test = df_nn[df_nn.time_id.apply(lambda x: x in robust_time)]"
   ]
  },
  {
   "cell_type": "code",
   "execution_count": 88,
   "metadata": {},
   "outputs": [],
   "source": [
    "X_robust = robust_test[[col for col in robust_test.columns if col not in ['target','time_id','stock_id','level_0','index']]]\n",
    "y_pred = ret['cvbooster'].boosters[i].predict(X_robust, num_iteration=best_iter)"
   ]
  },
  {
   "cell_type": "code",
   "execution_count": 89,
   "metadata": {},
   "outputs": [
    {
     "data": {
      "text/plain": [
       "0.4700854619527124"
      ]
     },
     "execution_count": 89,
     "metadata": {},
     "output_type": "execute_result"
    }
   ],
   "source": [
    "y_true = robust_test.target\n",
    "rmspe(y_true, y_pred)"
   ]
  }
 ],
 "metadata": {
  "kernelspec": {
   "display_name": "Python 3.10.8 64-bit",
   "language": "python",
   "name": "python3"
  },
  "language_info": {
   "codemirror_mode": {
    "name": "ipython",
    "version": 3
   },
   "file_extension": ".py",
   "mimetype": "text/x-python",
   "name": "python",
   "nbconvert_exporter": "python",
   "pygments_lexer": "ipython3",
   "version": "3.10.8"
  },
  "orig_nbformat": 4,
  "vscode": {
   "interpreter": {
    "hash": "44966cc58520d416351119416c640f1e9930367d91204e0da09aa706145b56ec"
   }
  }
 },
 "nbformat": 4,
 "nbformat_minor": 2
}
